{
  "nbformat": 4,
  "nbformat_minor": 0,
  "metadata": {
    "colab": {
      "provenance": [],
      "collapsed_sections": [],
      "mount_file_id": "1LHUHrqIh5pZABi_VeRDDsakgitgiYIQN",
      "authorship_tag": "ABX9TyNxZHxCjwMVgs5R5og1jWq3",
      "include_colab_link": true
    },
    "kernelspec": {
      "name": "python3",
      "display_name": "Python 3"
    },
    "language_info": {
      "name": "python"
    }
  },
  "cells": [
    {
      "cell_type": "markdown",
      "metadata": {
        "id": "view-in-github",
        "colab_type": "text"
      },
      "source": [
        "<a href=\"https://colab.research.google.com/github/TJSun009/ast_test_generator/blob/main/notebook.ipynb\" target=\"_parent\"><img src=\"https://colab.research.google.com/assets/colab-badge.svg\" alt=\"Open In Colab\"/></a>"
      ]
    },
    {
      "cell_type": "markdown",
      "source": [
        "# AST Test Generator (Rules-Based Experiment)"
      ],
      "metadata": {
        "id": "hvvArh5knlBH"
      }
    },
    {
      "cell_type": "code",
      "source": [
        "import ast"
      ],
      "metadata": {
        "id": "vea_1B4NYGw5"
      },
      "execution_count": 1,
      "outputs": []
    },
    {
      "cell_type": "code",
      "source": [
        "! git clone https://github.com/MeetShah-Yo/merge-sort.git"
      ],
      "metadata": {
        "id": "cmSAQgTqY_Sx"
      },
      "execution_count": null,
      "outputs": []
    },
    {
      "cell_type": "markdown",
      "source": [
        "## Read Merge File"
      ],
      "metadata": {
        "id": "OKrc1mrQaFIi"
      }
    },
    {
      "cell_type": "code",
      "source": [
        "! pip install pprintast"
      ],
      "metadata": {
        "id": "u_buGH7ScJZJ"
      },
      "execution_count": null,
      "outputs": []
    },
    {
      "cell_type": "code",
      "source": [
        "with open(\"/content/merge-sort/merge.py\", \"r+\") as file:\n",
        "  code = file.read()\n",
        "\n",
        "head = ast.parse(code)\n",
        "\n",
        "from pprintast import pprintast as ppast\n",
        "\n",
        "def get_functions(node):\n",
        "  return [function for function in node.body if isinstance(function, ast.FunctionDef)]\n",
        "\n",
        "functions = get_functions(head)\n",
        "\n",
        "for f in functions:\n",
        "  ppast(ast.dump(f))"
      ],
      "metadata": {
        "id": "r0wyeyZ5aD5O"
      },
      "execution_count": null,
      "outputs": []
    },
    {
      "cell_type": "code",
      "source": [
        "import importlib  \n",
        "merge = importlib.import_module(\"merge-sort.merge\")\n",
        "arr = [4,2,3,4]\n",
        "l = 0\n",
        "r = len(arr) - 1\n",
        "m = (l+(r-1))//2\n",
        "merge.merge(arr, l, m, r)\n",
        "print(arr)"
      ],
      "metadata": {
        "id": "_0TcAUNbmt9K"
      },
      "execution_count": null,
      "outputs": []
    },
    {
      "cell_type": "markdown",
      "source": [
        "## Name of functions"
      ],
      "metadata": {
        "id": "L9pgH2GOrHQE"
      }
    },
    {
      "cell_type": "code",
      "source": [
        "def get_function_names(functions):\n",
        "  return [function.name for function in functions]\n",
        "\n",
        "print(get_function_names(functions))"
      ],
      "metadata": {
        "id": "MzcfseAorMnt"
      },
      "execution_count": null,
      "outputs": []
    },
    {
      "cell_type": "markdown",
      "source": [
        "## Check Variables Reassigned in Function"
      ],
      "metadata": {
        "id": "PoyCnC8uqTBK"
      }
    },
    {
      "cell_type": "code",
      "source": [
        "def get_reassigned_vars():\n",
        "  args = [[arg.arg for arg in function.args.args] for function in functions]\n",
        "\n",
        "  for a in args:\n",
        "    print(a)\n",
        "\n",
        "  reassigned = [set() for function in functions]\n",
        "\n",
        "  for i, function in enumerate(functions):\n",
        "    for node in ast.walk(function):\n",
        "      \"\"\"\n",
        "      If there is an assignment and the value is one of the args passed to the function\n",
        "      \n",
        "      \"\"\"\n",
        "      if(isinstance(node, ast.Assign)):\n",
        "        if (\"value\" in node.targets[0].__dict__.keys()):\n",
        "          value = node.targets[0].value.id\n",
        "          print(value)\n",
        "          if (value in args[i]):\n",
        "            reassigned[i].add(value)\n",
        "  \n",
        "  return reassigned\n",
        "\n",
        "print(reassigned)"
      ],
      "metadata": {
        "id": "qcr4XrJIqRWZ"
      },
      "execution_count": null,
      "outputs": []
    },
    {
      "cell_type": "markdown",
      "source": [
        "## Test AST Constructor"
      ],
      "metadata": {
        "id": "8VI6-5Y7-PqW"
      }
    },
    {
      "cell_type": "code",
      "source": [
        "import astunparse\n",
        "test_file_head = ast.Module(\n",
        "    body = [\n",
        "        ast.Import(\n",
        "            names = [\"unittest\"]\n",
        "        )\n",
        "    ]\n",
        ")\n",
        "\n",
        "code = astunparse.unparse(test_file_head)\n",
        "print(code)"
      ],
      "metadata": {
        "id": "k0IWzT6U-PNj"
      },
      "execution_count": null,
      "outputs": []
    }
  ]
}