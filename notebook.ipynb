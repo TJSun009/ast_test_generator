{
  "nbformat": 4,
  "nbformat_minor": 0,
  "metadata": {
    "colab": {
      "provenance": [],
      "collapsed_sections": [],
      "mount_file_id": "1LHUHrqIh5pZABi_VeRDDsakgitgiYIQN",
      "authorship_tag": "ABX9TyPT3L9tkYHiesz2Q6CfeGG8",
      "include_colab_link": true
    },
    "kernelspec": {
      "name": "python3",
      "display_name": "Python 3"
    },
    "language_info": {
      "name": "python"
    }
  },
  "cells": [
    {
      "cell_type": "markdown",
      "metadata": {
        "id": "view-in-github",
        "colab_type": "text"
      },
      "source": [
        "<a href=\"https://colab.research.google.com/github/TJSun009/ast_test_generator/blob/main/notebook.ipynb\" target=\"_parent\"><img src=\"https://colab.research.google.com/assets/colab-badge.svg\" alt=\"Open In Colab\"/></a>"
      ]
    },
    {
      "cell_type": "markdown",
      "source": [
        "# AST Test Generator (Rules-Based Experiment)"
      ],
      "metadata": {
        "id": "hvvArh5knlBH"
      }
    }
  ]
}